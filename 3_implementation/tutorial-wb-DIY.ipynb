{
 "cells": [
  {
   "cell_type": "markdown",
   "id": "0a98c76e",
   "metadata": {},
   "source": [
    "# DIY tutorial\n",
    "\n",
    "As we learned from the basic tutorial, in WannierBerri  calculations are done by [`Calculator`](https://wannier-berri.org/docs/calculators.html#wannierberri.calculators.Calculator)s. In this tutorial we will se how to create our own calculators. \n",
    "\n",
    "As an example let's consider anomalous Nernst conductivity ([Xiao et al. 2006 ](https://doi.org/10.1103/PhysRevLett.97.026603) ). In the zero-temperature limit $\\alpha_{\\alpha\\beta}^{\\rm ANE}$ may be obtained from\n",
    "   AHC $\\sigma_{\\alpha\\beta}(\\epsilon)^{\\rm AHE}$ evaluated over a\n",
    "   dense grid of Fermi levels $\\epsilon$\n",
    "\n",
    "$$\n",
    "       \\alpha_{\\alpha\\beta}^{\\rm ANE}=-\\frac{1}{e}\\int d\\varepsilon \\frac{\\partial f}{\\partial\\varepsilon}\\sigma_{\\alpha\\beta}(\\varepsilon)\\frac{\\varepsilon-\\mu}{T}, \\label{eq:ane} \\tag{1}\n",
    "$$\n",
    "\n",
    "   where $f(\\varepsilon)=1/\\left(1+e^\\frac{\\varepsilon-\\mu}{k_{\\rm B}T}\\right)$ and the AHC is defined as a Fermi-sea integral of Berry curvature\n",
    "\n",
    "\\begin{equation}\n",
    "\\sigma^{\\rm AHC}_{xy} = -\\frac{e^2}{\\hbar} \\sum_n \\int\\frac{d\\mathbf{k}}{(2\\pi)^3} \\Omega^n_\\gamma f(\\epsilon_n)\n",
    "\\label{eq:ahc}\\tag{2}\n",
    "\\end{equation}\n",
    "\n",
    "   \n",
    "   In the zero-temperature limit it reduced to \n",
    "   $$\n",
    "   \\alpha_{\\alpha\\beta}^{\\rm ANE} \\propto \\frac{\\partial \\sigma_{\\alpha\\beta}(\\varepsilon)}{\\partial \\varepsilon}\n",
    "   \\propto \\int\\frac{d\\mathbf{k}}{(2\\pi)^3} \\Omega^n_\\gamma f'(\\epsilon_n) \\tag{3}\\label{eq:ane-ahc}\n",
    "   $$\n",
    "   \n",
    "   Where we omit the dimensional factor for simplicity.\n",
    "   \n",
    "   **Thus, there are two ways of calculating ANE** : \n",
    "   * via eq (\\ref{eq:ane-ahc}) \n",
    "   * via eq (\\ref{eq:ane}) \n",
    "   \n",
    "   let's try eq (\\ref{eq:ane-ahc}) first, because AHC is already implemented\n",
    "   \n",
    "   **Warning** : this is an advanced tutorial. You something may not work from first try, you need to work with documentation to resolve the problem, but do not hesitate to ask the TA if you cannot. \n",
    "  "
   ]
  },
  {
   "cell_type": "code",
   "execution_count": 1,
   "id": "3d966769-a457-4937-8c2f-9b66ceddf92e",
   "metadata": {
    "jupyter": {
     "outputs_hidden": true
    },
    "tags": []
   },
   "outputs": [
    {
     "name": "stderr",
     "output_type": "stream",
     "text": [
      "2025-06-30 10:34:36,421\tINFO util.py:154 -- Missing packages: ['ipywidgets']. Run `pip install -U ipywidgets`, then restart the notebook server for rich notebook output.\n"
     ]
    },
    {
     "name": "stdout",
     "output_type": "stream",
     "text": [
      "Using WannierBerri version 1.4.1\n",
      "initializing ray with  {'num_cpus': 2}\n"
     ]
    },
    {
     "name": "stderr",
     "output_type": "stream",
     "text": [
      "2025-06-30 10:34:40,397\tINFO worker.py:1908 -- Started a local Ray instance. View the dashboard at \u001b[1m\u001b[32mhttp://127.0.0.1:8265 \u001b[39m\u001b[22m\n"
     ]
    }
   ],
   "source": [
    "# Preliminary \n",
    "\n",
    "# Set environment variables - not mandatory but recommended if you use Parallel()\n",
    "#import os\n",
    "#os.environ['OPENBLAS_NUM_THREADS'] = '1' \n",
    "#os.environ['MKL_NUM_THREADS'] = '1'\n",
    "\n",
    "\n",
    "import wannierberri as wberri\n",
    "import wannierberri.models\n",
    "print (f\"Using WannierBerri version {wberri.__version__}\")\n",
    "import numpy as np\n",
    "import scipy\n",
    "import matplotlib.pyplot as plt\n",
    "from termcolor import cprint\n",
    "\n",
    "#  This block is needed if you run this cell for a second time\n",
    "#  because one cannot initiate two parallel environments at a time\n",
    "try:\n",
    "    parallel.shutdown()   \n",
    "except NameError:\n",
    "    pass\n",
    "\n",
    "# Chiose one of the options:\n",
    "\n",
    "parallel = wberri.Parallel(num_cpus=2)\n",
    "#parallel = wberri.Parallel()  # automatic detection \n",
    "#parallel = wberri.Serial()\n",
    "\n"
   ]
  },
  {
   "cell_type": "code",
   "execution_count": 2,
   "id": "1a64528c",
   "metadata": {},
   "outputs": [
    {
     "name": "stdout",
     "output_type": "stream",
     "text": [
      "number of wannier functions: 2\n",
      "R=0 found at position(s) [[3]]\n",
      "shape of Ham_R = (7, 2, 2)\n",
      "Real-space lattice:\n",
      " [[1.        0.        0.       ]\n",
      " [0.5       0.8660254 0.       ]\n",
      " [0.        0.        1.       ]]\n",
      "Number of wannier functions: 2\n",
      "Number of R points: 7\n",
      "Recommended size of FFT grid [3 3 1]\n",
      "\u001b[1m\u001b[32mReading the system from PythTB finished successfully\u001b[0m\n"
     ]
    }
   ],
   "source": [
    "# Instead of Wannier functions, we work with a Hlldane model here https://wannier-berri.org/docs/models.html\n",
    "\n",
    "model=wberri.models.Haldane_ptb()\n",
    "system = wberri.System_PythTB(model)\n"
   ]
  },
  {
   "cell_type": "markdown",
   "id": "15a519fb",
   "metadata": {},
   "source": [
    "## anomalous Hall conductivity\n",
    "\n",
    "Now, let's evaluate the AHC on a grid of Ef-points, and then take a derivtive\n"
   ]
  },
  {
   "cell_type": "code",
   "execution_count": null,
   "id": "d987052a",
   "metadata": {},
   "outputs": [
    {
     "name": "stdout",
     "output_type": "stream",
     "text": [
      "Minimal symmetric FFT grid :  [3 3 1]\n",
      "\u001b[1m\u001b[31mStarting run()\u001b[0m\n",
      "\u001b[1m\u001b[36mUsing the follwing calculators : \n",
      "############################################################\n",
      "\u001b[0m\n",
      "\u001b[1m\u001b[35m 'ahc' \u001b[0m : \u001b[1m\u001b[33m <wannierberri.calculators.static.AHC object at 0x7f6511bbade0> \u001b[0m : Anomalous Hall conductivity (:math:`s^3 \\cdot A^2 / (kg \\cdot m^3) = S/m`)\n",
      "\n",
      "        | With Fermi sea integral Eq(11) in `Ref <https://www.nature.com/articles/s41524-021-00498-5>`__\n",
      "        | Output: :math:`O = -e^2/\\hbar \\int [dk] \\Omega f`\n",
      "        | Instruction: :math:`j_\\alpha = \\sigma_{\\alpha\\beta} E_\\beta = \\epsilon_{\\alpha\\beta\\delta} O_\\delta E_\\beta`\n",
      "\u001b[1m\u001b[36m############################################################\u001b[0m\n",
      "Calculation on  grid - checking calculators for compatibility\n",
      "ahc <wannierberri.calculators.static.AHC object at 0x7f6511bbade0>\n",
      "All calculators are compatible\n",
      "Grid is regular\n",
      "The set of k points is a Grid() with NKdiv=[7 7 1], NKFFT=[5 5 1], NKtot=[35 35  1]\n",
      "generating K_list\n",
      "Done in 0.0004994869232177734 s \n",
      "excluding symmetry-equivalent K-points from initial grid\n",
      "Done in 0.0024085044860839844 s \n",
      "K_list contains 49 Irreducible points(100.0%) out of initial 7x7x1=49 grid\n",
      "Done, sum of weights:1.0000000000000007\n",
      "processing 49 K points : using  2 processes.\n",
      "# K-points calculated  Wall time (sec)  Est. remaining (sec)\n",
      "time for processing     49 K-points on   2 processes:     2.7439 ; per K-point          0.0560 ; proc-sec per K-point          0.1120\n",
      "time1 =  0.0008103847503662109\n",
      "Totally processed 49 K-points \n",
      "run() finished\n"
     ]
    }
   ],
   "source": [
    "calculators = {}\n",
    "Efermi = np.linspace(-3,3,21)\n",
    "# Set a grid \n",
    "grid = wberri.Grid(system, length=30 )   # length [ Ang] ~= 2*pi/dk\n",
    "\n",
    "calculators [\"ahc\"] = wberri.calculators.static.AHC(Efermi=Efermi,\n",
    "                                                    tetra=True,\n",
    "                                                    constant_factor=1,\n",
    "                                                    kwargs_formula={\"external_terms\":False})\n",
    "\n",
    "result_run_ahc = wberri.run(system,\n",
    "            grid=grid,\n",
    "            calculators = calculators,\n",
    "            parallel=parallel,\n",
    "            adpt_num_iter=0,\n",
    "            fout_name='haldane',\n",
    "            restart=False,\n",
    "            file_Klist=\"Klist_ahc.pickle\",  # needed to restart a calculation in future\n",
    "            print_Kpoints=False\n",
    "            )\n",
    "\n",
    "\n"
   ]
  },
  {
   "cell_type": "code",
   "execution_count": 4,
   "id": "bf1adc14",
   "metadata": {},
   "outputs": [
    {
     "name": "stdout",
     "output_type": "stream",
     "text": [
      "Fe-ahc_iter-0000.dat  Klist_ahc.pickle\n",
      "Fe-ahc_iter-0000.npz  tutorial-wb-DIY.ipynb\n"
     ]
    }
   ],
   "source": [
    "!ls"
   ]
  },
  {
   "cell_type": "code",
   "execution_count": 5,
   "id": "f68bd818",
   "metadata": {},
   "outputs": [
    {
     "data": {
      "text/plain": [
       "[<matplotlib.lines.Line2D at 0x7f6511979fd0>]"
      ]
     },
     "execution_count": 5,
     "metadata": {},
     "output_type": "execute_result"
    },
    {
     "data": {
      "image/png": "[encoded data removed]",
      "text/plain": [
       "<Figure size 640x480 with 1 Axes>"
      ]
     },
     "metadata": {},
     "output_type": "display_data"
    }
   ],
   "source": [
    "# taking derivative and plotting\n",
    "\n",
    "ef = result_run_ahc.results[\"ahc\"].Energies[0]\n",
    "ahc_z = result_run_ahc.results[\"ahc\"].data[:,2]\n",
    "\n",
    "# take the derivative\n",
    "d_ef=ef[1]-ef[0]\n",
    "d_ahc_z = (ahc_z[1:]-ahc_z[:-1])/d_ef\n",
    "efnew = (ef[1:]+ef[:-1])/2\n",
    "\n",
    "plt.plot(efnew, d_ahc_z)\n",
    "\n",
    "\n",
    "\n",
    "\n"
   ]
  },
  {
   "cell_type": "markdown",
   "id": "684530ae",
   "metadata": {},
   "source": [
    "## Look into documentation\n",
    "\n",
    "Look into documentation to see how the AHC calculator is defined : look for \"Calculator\" on\n",
    "https://docs.wannier-berri.org and press the \"source\" link.\n",
    "\n",
    "One can see that it is based on the StaticCalculator, and only redefines the `__init__` method. \n",
    "Namely, it redefines formula that stands under the integral (Berry curvature) and `fder=0` meaning that the formula is weighted by the 0th derivative of the Fermi distribution.\n",
    "\n",
    "copy the definition of AHC calculator and redefine the and below and define the __init__ class\n",
    "\n",
    "\n",
    "(hint : leave the factor the same, for simplicity)\n",
    "(hint : formula shouldbe imported from wannierberri.formula.covariant.DerOmega ) \n",
    "\n"
   ]
  },
  {
   "cell_type": "code",
   "execution_count": null,
   "id": "8af1e1b0",
   "metadata": {},
   "outputs": [
    {
     "ename": "IndentationError",
     "evalue": "expected an indented block after function definition on line 12 (2282671647.py, line 15)",
     "output_type": "error",
     "traceback": [
      "  \u001b[36mCell\u001b[39m\u001b[36m \u001b[39m\u001b[32mIn[6]\u001b[39m\u001b[32m, line 15\u001b[39m\n\u001b[31m    \u001b[39m\u001b[31m...\u001b[39m\n    ^\n\u001b[31mIndentationError\u001b[39m\u001b[31m:\u001b[39m expected an indented block after function definition on line 12\n"
     ]
    },
    {
     "ename": "",
     "evalue": "",
     "output_type": "error",
     "traceback": [
      "\u001b[1;31mThe Kernel crashed while executing code in the current cell or a previous cell. \n",
      "\u001b[1;31mPlease review the code in the cell(s) to identify a possible cause of the failure. \n",
      "\u001b[1;31mClick <a href='https://aka.ms/vscodeJupyterKernelCrash'>here</a> for more info. \n",
      "\u001b[1;31mView Jupyter <a href='command:jupyter.viewOutput'>log</a> for further details."
     ]
    }
   ],
   "source": [
    "from wannierberri.calculators.static import StaticCalculator\n",
    "from wannierberri.formula.covariant import Omega\n",
    "from wannierberri import factors\n",
    "\n",
    "\n",
    "class ANC(StaticCalculator):\n",
    "    r\"\"\"Anomalous Nernst conductivity \n",
    "\n",
    "        | Output: :math:`O = \\int [dk] \\Omega f' `\n",
    "        \"\"\"\n",
    "\n",
    "    def __init__(self, \n",
    "                 constant_factor=1, # Figure out the pre-factor yourself\n",
    "                 **kwargs):\n",
    "    ...\n",
    "        "
   ]
  },
  {
   "cell_type": "markdown",
   "id": "5198385d",
   "metadata": {},
   "source": [
    "### Evaluate ANE  using the new calculator and plot the result\n",
    "\n"
   ]
  },
  {
   "cell_type": "code",
   "execution_count": null,
   "id": "06b59fb5",
   "metadata": {},
   "outputs": [],
   "source": [
    "# insert the needed code below\n",
    "\n",
    "calculators = {}\n",
    "# Set a grid \n",
    "grid = wberri.Grid(system, length=50 )   # length [ Ang] ~= 2*pi/dk\n",
    "\n",
    "calculators [\"ane\"] = ANC(Efermi=Efermi,tetra=True)\n",
    "\n",
    "result_run_ane = wberri.run(system,\n",
    "            grid=grid,\n",
    "            calculators = calculators,\n",
    "            parallel=parallel,\n",
    "            adpt_num_iter=0,\n",
    "            fout_name='Fe',\n",
    "            restart=False,\n",
    "           # file_Klist=\"Klist_ahc.pickle\"  # needed to restart a calculation in future\n",
    "            )\n",
    "\n"
   ]
  },
  {
   "cell_type": "code",
   "execution_count": null,
   "id": "e0d7b696",
   "metadata": {},
   "outputs": [],
   "source": [
    "\n",
    "ef = result_run_ane.results[\"ane\"].Energies[0]\n",
    "ane_z = result_run_ane.results[\"ane\"].dataSmooth[:,2]\n",
    "\n",
    "\n",
    "plt.scatter(efnew,d_ahc_z)\n",
    "plt.plot(ef, ane_z)\n",
    "plt.show()"
   ]
  },
  {
   "cell_type": "markdown",
   "id": "e2bda9d0",
   "metadata": {},
   "source": [
    "## Questions: \n",
    "\n",
    "1. Make the k-points or Efermi denser. Will the agreement improve?\n",
    "\n",
    "2. we calculated the AHC and ANE with zero refinement iterations, and the results matched well (or at least they should). If we calculate them separately, but with some refinement iterations, will the results match?\n",
    "\n",
    "3. What if we use refinement itrations and run the two calculations together, in one `run()` call ?"
   ]
  },
  {
   "cell_type": "markdown",
   "id": "f9a73ba2",
   "metadata": {},
   "source": [
    "## FormulaProduct\n",
    "\n",
    "Look at the definition of erryDipole_FermiSurf\n",
    "\n",
    "https://wannier-berri.org/_modules/wannierberri/calculators/static.html\n",
    "\n",
    "\n",
    "It evaluates \n",
    "\n",
    "\\begin{equation}\n",
    "D_{ab} =\\sum_n \\int\\frac{d\\mathbf{k}}{(2\\pi)^3} v_a\\Omega^n_b f(\\epsilon_n)\n",
    "\\label{eq:ahc}\\tag{2}\n",
    "\\end{equation}\n",
    "\n",
    "also look at definition of the Feormula https://wannier-berri.org/docs/formula.html \n",
    "\n",
    "you can see that it is base on a FormulaProduct.  Essentially, by analogy you may define any tensor, e.g. \n",
    "\n",
    "$$\n",
    "\\sum_n \\int\\frac{d\\mathbf{k}}{(2\\pi)^3} v_a\\Omega^n_b v_c f''(\\epsilon_n)\n",
    "$$\n",
    "\n",
    "i.e. product of several quantities weighted by rge second derivative of Fermi distribution. You may write any analogous formula, if you want. Try to define corresponding FormulaProduct and StaticCalculator classes, and try to evaluate them. \n",
    "\n"
   ]
  },
  {
   "cell_type": "code",
   "execution_count": null,
   "id": "c1a83341",
   "metadata": {},
   "outputs": [],
   "source": []
  },
  {
   "cell_type": "code",
   "execution_count": null,
   "id": "93841a42",
   "metadata": {},
   "outputs": [],
   "source": []
  },
  {
   "cell_type": "markdown",
   "id": "e8fdf37c",
   "metadata": {},
   "source": [
    "## Problem :\n",
    "\n",
    "\n",
    " try to prove (analytically and numerically) that \n",
    "\n",
    "$$\n",
    "\\sum_n \\int\\frac{d\\mathbf{k}}{(2\\pi)^3} \\partial_a \\partial_b \\partial_c \\epsilon_{n\\mathbf{k}} f(\\epsilon_{n\\mathbf{k}}) \\propto \\sum_n \\int\\frac{d\\mathbf{k}}{(2\\pi)^3} \\partial_a \\epsilon_{n\\mathbf{k}}  \\partial_b \\epsilon_{n\\mathbf{k}}  \\partial_c \\epsilon_{n\\mathbf{k}} f''(\\epsilon_{n\\mathbf{k}})\n",
    "$$ \n",
    "\n",
    "and tell me what is the factor missing?\n",
    "\n",
    "\n",
    "** Have fun ! **"
   ]
  },
  {
   "cell_type": "code",
   "execution_count": null,
   "id": "b5ed3fa4",
   "metadata": {},
   "outputs": [],
   "source": []
  }
 ],
 "metadata": {
  "kernelspec": {
   "display_name": "Python 3",
   "language": "python",
   "name": "python3"
  },
  "language_info": {
   "codemirror_mode": {
    "name": "ipython",
    "version": 3
   },
   "file_extension": ".py",
   "mimetype": "text/x-python",
   "name": "python",
   "nbconvert_exporter": "python",
   "pygments_lexer": "ipython3",
   "version": "3.12.11"
  }
 },
 "nbformat": 4,
 "nbformat_minor": 5
}
