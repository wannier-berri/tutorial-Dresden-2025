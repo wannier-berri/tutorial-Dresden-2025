{
 "cells": [
  {
   "cell_type": "markdown",
   "id": "0e79a1c8",
   "metadata": {},
   "source": [
    "# 1. Simple mode (no symmetry)"
   ]
  },
  {
   "cell_type": "markdown",
   "id": "499feb58",
   "metadata": {},
   "source": []
  },
  {
   "cell_type": "markdown",
   "id": "4eab416a",
   "metadata": {},
   "source": [
    "## 1.1 Plot bands from the DFT code"
   ]
  },
  {
   "cell_type": "code",
   "execution_count": null,
   "id": "a5cc2572",
   "metadata": {},
   "outputs": [],
   "source": [
    "from matplotlib import pyplot as plt\n",
    "import numpy as np\n",
    "import scipy\n",
    "\n",
    "bands_pw = np.loadtxt(\"./data/diamond.bands_pw.dat.gnu\")\n",
    "\n",
    "bohr_ang = scipy.constants.physical_constants['Bohr radius'][0] / 1e-10\n",
    "alatt = 6.1* bohr_ang\n",
    "bands_pw[:,0]*= 2*np.pi/alatt\n",
    "\n",
    "plt.scatter(bands_pw[:, 0], bands_pw[:, 1], s=1, c=\"black\", label=\"PW bands\")\n",
    "plt.show()\n",
    "\n"
   ]
  },
  {
   "cell_type": "markdown",
   "id": "1e4a12dd",
   "metadata": {},
   "source": [
    "## 2.2 Load Wannier90 files and wannierize them\n"
   ]
  },
  {
   "cell_type": "code",
   "execution_count": null,
   "id": "e0180b61",
   "metadata": {},
   "outputs": [],
   "source": [
    "from wannierberri.w90files import Wannier90data\n",
    "\n",
    "w90data = Wannier90data().from_w90_files(\"./data/w90files/diamond\", readfiles=[\"win\", \"mmn\", \"amn\", \"eig\", \"unk\"])\n",
    "\n",
    "froz_max=22\n",
    "\n",
    "w90data.select_bands(win_min=-np.inf, win_max = froz_max)\n",
    "\n",
    "w90data.wannierise( init = \"amn\",\n",
    "                froz_min=-np.inf,\n",
    "                froz_max=froz_max,\n",
    "                print_progress_every=10,\n",
    "                num_iter=41,\n",
    "                conv_tol=1e-6,\n",
    "                mix_ratio_z=1.0,\n",
    "                sitesym=False,\n",
    "                )\n"
   ]
  },
  {
   "cell_type": "markdown",
   "id": "75bee6d2",
   "metadata": {},
   "source": [
    "## 1.3 Plot the Wannier functions"
   ]
  },
  {
   "cell_type": "code",
   "execution_count": null,
   "id": "1f3abd03",
   "metadata": {},
   "outputs": [],
   "source": [
    "w90data.plotWF(path=\"./diamond-bond\")\n",
    "%ls\n",
    "%pwd"
   ]
  },
  {
   "cell_type": "markdown",
   "id": "ec4bbddd",
   "metadata": {},
   "source": [
    "## 1.4 Create a System() object\n",
    "\n",
    "This object may be created in many ways (from the .chk file by wannier90, or from FPLO, ASE, or a tight-binding model, even a k.p model)"
   ]
  },
  {
   "cell_type": "code",
   "execution_count": null,
   "id": "89a1a42f",
   "metadata": {},
   "outputs": [],
   "source": [
    "from wannierberri.system import System_w90\n",
    "system = System_w90(w90data=w90data)\n"
   ]
  },
  {
   "cell_type": "markdown",
   "id": "ab459bd9",
   "metadata": {},
   "source": [
    "## 1.5 calculate bands along the path and plot them"
   ]
  },
  {
   "cell_type": "code",
   "execution_count": null,
   "id": "c02ecfe7",
   "metadata": {},
   "outputs": [],
   "source": [
    "from wannierberri.grid import Path\n",
    "from wannierberri import evaluate_k_path\n",
    "\n",
    "path = Path(system=system,\n",
    "            nodes = [[1/2,1/2,1/2], [0,0,0], [1/2,-1/2,0], [3/8, -3/8, 0], [0,0,0]],\n",
    "            labels = [\"L\", \"$\\Gamma$\", \"X\", \"K\", \"$\\Gamma$\"],\n",
    "            length=500)\n",
    "\n",
    "bands_wb = evaluate_k_path(system=system, path=path)\n",
    "\n",
    "plt.scatter(bands_pw[:,0], bands_pw[:,1], c=\"black\", s=5)\n",
    "\n",
    "\n",
    "\n",
    "bands_wb.plot_path_fat(path,\n",
    "                quantity=None,\n",
    "                # save_file=\"Fe_bands.pdf\",\n",
    "                Eshift=0,\n",
    "                Emin=-10, Emax=50,\n",
    "                iband=None,\n",
    "                mode=\"fatband\",\n",
    "                fatfactor=20,\n",
    "                cut_k=False,\n",
    "                linecolor=\"red\",\n",
    "                close_fig=False,\n",
    "                show_fig=False,\n",
    "                label=f\"WB\"\n",
    "                )\n",
    "\n",
    "# plt.ylim(-10, 40)\n",
    "plt.hlines(froz_max, 0, bands_pw[-1,0], linestyles=\"dashed\", label=\"frozen window\", color=\"black\")\n",
    "plt.legend()\n",
    "plt.show()"
   ]
  },
  {
   "cell_type": "markdown",
   "id": "ef81eabb",
   "metadata": {},
   "source": [
    "## 1.6 Change the projections\n",
    "\n",
    "### load the bandstructure directly from DFT code outputs"
   ]
  },
  {
   "cell_type": "code",
   "execution_count": null,
   "id": "f6ade46e",
   "metadata": {},
   "outputs": [],
   "source": [
    "from wannierberri.symmetry.projections import Projection, ProjectionsSet\n",
    "from wannierberri.w90files import AMN\n",
    "from irrep.bandstructure import BandStructure\n",
    "\n",
    "bandstructure = BandStructure(code=\"espresso\", prefix=\"./data/di\")\n",
    "sg = bandstructure.spacegroup\n",
    "# sg.show()\n",
    "\n",
    "positions_atoms = [[1/8,1/8,1/8], [-1/8,-1/8,-1/8]] \n",
    "proj_s = Projection(position_num=positions_atoms, orbital=\"s\", spacegroup=sg)\n",
    "proj_p = Projection(position_num=positions_atoms, orbital=\"p\", spacegroup=sg)\n",
    "\n",
    "projections = ProjectionsSet([proj_s, proj_p])\n",
    "\n",
    "# This requires wannierberri ==1.4.2\n",
    "# proj_sp3 = Projection(position_num=positions_atoms, orbital=\"sp3\", \n",
    "#                       basis_list=[np.eye(3), -np.eye(3)],\n",
    "#                       spacegroup=sg)\n",
    "# projections = ProjectionsSet([proj_sp3])\n",
    "\n",
    "\n",
    "\n",
    "amn_new = AMN.from_bandstructure(bandstructure=bandstructure, projections=projections)\n",
    "\n",
    "w90data2 = Wannier90data().from_w90_files(\"./data/w90files/diamond\", readfiles=[\"win\", \"mmn\", \"eig\"])\n",
    "w90data2.set_file(\"amn\", amn_new)\n",
    "\n",
    "\n",
    "froz_max=35\n",
    "# w90data.select_bands(win_min=-np.inf, win_max = 100)\n",
    "\n",
    "w90data2.wannierise(\n",
    "                init = \"amn\",\n",
    "                froz_min=-np.inf,\n",
    "                froz_max=froz_max,\n",
    "                print_progress_every=10,\n",
    "                num_iter=101,\n",
    "                conv_tol=1e-6,\n",
    "                mix_ratio_z=1.0,\n",
    "                sitesym=False,\n",
    "                )\n"
   ]
  },
  {
   "cell_type": "code",
   "execution_count": null,
   "id": "2f261dbc",
   "metadata": {},
   "outputs": [],
   "source": [
    "system2 = System_w90(w90data=w90data2)\n",
    "bands_wb = evaluate_k_path(system=system2, path=path)\n",
    "\n",
    "plt.scatter(bands_pw[:,0], bands_pw[:,1], c=\"black\", s=5)\n",
    "\n",
    "\n",
    "\n",
    "bands_wb.plot_path_fat(path,\n",
    "                quantity=None,\n",
    "                # save_file=\"Fe_bands.pdf\",\n",
    "                Eshift=0,\n",
    "                Emin=-10, Emax=50,\n",
    "                iband=None,\n",
    "                mode=\"fatband\",\n",
    "                fatfactor=20,\n",
    "                cut_k=False,\n",
    "                linecolor=\"red\",\n",
    "                close_fig=False,\n",
    "                show_fig=False,\n",
    "                label=f\"WB\"\n",
    "                )\n",
    "\n",
    "# plt.ylim(-10, 40)\n",
    "plt.hlines(froz_max, 0, bands_pw[-1,0], linestyles=\"dashed\", label=\"frozen window\", color=\"black\")\n",
    "plt.legend()\n",
    "plt.show()"
   ]
  },
  {
   "cell_type": "markdown",
   "id": "82aafe56",
   "metadata": {},
   "source": [
    "# 2. Symmetry-adapted Wannier Functions"
   ]
  },
  {
   "cell_type": "code",
   "execution_count": null,
   "id": "85d15708",
   "metadata": {},
   "outputs": [],
   "source": [
    "from wannierberri.symmetry.sawf import SymmetrizerSAWF\n",
    "\n",
    "positions_bonds = [[ 0,0,0], [0,0,1/2], [0,1/2,0], [1/2,0,0] ]\n",
    "proj_s_bond = Projection(position_num=positions_bonds,  orbital=\"s\", spacegroup=sg)\n",
    "proj_p_bond = Projection(position_num = positions_bonds, orbital='pz', \n",
    "                         zaxis =  np.array([1,1,1])@sg.lattice, \n",
    "                         rotate_basis=True,\n",
    "                         spacegroup=sg)\n",
    "\n",
    "proj_sp3 = Projection(position_num=positions_atoms, orbital=\"sp3\", spacegroup=sg, rotate_basis=True)\n",
    "\n",
    "projections = ProjectionsSet([proj_s_bond])\n",
    "projections = ProjectionsSet([proj_s_bond, proj_p_bond])\n",
    "projections = ProjectionsSet([proj_sp3])\n",
    "projections = ProjectionsSet([proj_s, proj_p])\n",
    "\n",
    "\n",
    "amn_new = AMN.from_bandstructure(bandstructure=bandstructure, projections=projections)\n",
    "\n",
    "w90data3 = Wannier90data().from_w90_files(\"./data/w90files/diamond\", readfiles=[\"win\", \"mmn\", \"eig\", \"unk\"])\n",
    "w90data3.set_file(\"amn\", amn_new)\n",
    "\n",
    "\n",
    "\n",
    "symmetrizer = SymmetrizerSAWF().from_irrep(bandstructure=bandstructure)\n",
    "symmetrizer.set_D_wann_from_projections(projections=projections)\n",
    "\n",
    "\n",
    "w90data3.set_symmetrizer(symmetrizer)\n",
    "froz_max=30\n",
    "w90data3.wannierise(\n",
    "                init = \"amn\",\n",
    "                froz_min=-np.inf,\n",
    "                froz_max=froz_max,\n",
    "                print_progress_every=10,\n",
    "                num_iter=101,\n",
    "                conv_tol=1e-6,\n",
    "                mix_ratio_z=1.0,\n",
    "                sitesym=True,\n",
    "                )\n"
   ]
  },
  {
   "cell_type": "code",
   "execution_count": null,
   "id": "370660ee",
   "metadata": {},
   "outputs": [],
   "source": [
    "system3 = System_w90(w90data=w90data3, symmetrize=False)\n",
    "bands_wb = evaluate_k_path(system=system3, path=path)\n",
    "\n",
    "plt.scatter(bands_pw[:,0], bands_pw[:,1], c=\"black\", s=5)\n",
    "\n",
    "\n",
    "\n",
    "bands_wb.plot_path_fat(path,\n",
    "                quantity=None,\n",
    "                # save_file=\"Fe_bands.pdf\",\n",
    "                Eshift=0,\n",
    "                Emin=-10, Emax=50,\n",
    "                iband=None,\n",
    "                mode=\"fatband\",\n",
    "                fatfactor=20,\n",
    "                cut_k=False,\n",
    "                linecolor=\"red\",\n",
    "                close_fig=False,\n",
    "                show_fig=False,\n",
    "                label=f\"WB\"\n",
    "                )\n",
    "\n",
    "# plt.ylim(-10, 40)\n",
    "plt.hlines(froz_max, 0, bands_pw[-1,0], linestyles=\"dashed\", label=\"frozen window\", color=\"black\")\n",
    "plt.legend()\n",
    "plt.show()"
   ]
  },
  {
   "cell_type": "code",
   "execution_count": null,
   "id": "3721e80b",
   "metadata": {},
   "outputs": [],
   "source": []
  }
 ],
 "metadata": {
  "kernelspec": {
   "display_name": "Python 3",
   "language": "python",
   "name": "python3"
  },
  "language_info": {
   "codemirror_mode": {
    "name": "ipython",
    "version": 3
   },
   "file_extension": ".py",
   "mimetype": "text/x-python",
   "name": "python",
   "nbconvert_exporter": "python",
   "pygments_lexer": "ipython3",
   "version": "3.12.11"
  }
 },
 "nbformat": 4,
 "nbformat_minor": 5
}
