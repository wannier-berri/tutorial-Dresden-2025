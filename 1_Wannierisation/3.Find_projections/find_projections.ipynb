{
 "cells": [
  {
   "cell_type": "code",
   "execution_count": null,
   "id": "0634dd75",
   "metadata": {},
   "outputs": [],
   "source": [
    "from irrep.bandstructure import BandStructure\n",
    "from fractions import Fraction\n",
    "import sympy\n",
    "from wannierberri.symmetry.sawf import SymmetrizerSAWF as SAWF\n",
    "\n",
    "\n",
    "from wannierberri.symmetry.projections_searcher import EBRsearcher\n",
    "from wannierberri.symmetry.projections import Projection, ProjectionsSet\n",
    "\n",
    "\n",
    "print(\"calculating symmetrizer\")\n",
    "\n",
    "path = \"../1.diamond/data/\"\n",
    "\n",
    "bandstructure = BandStructure(prefix=path + \"di-irred\", code=\"espresso\",\n",
    "                            Ecut=100, include_TR=False, irreducible=True)\n",
    "spacegroup = bandstructure.spacegroup\n",
    "# spacegroup.show()\n"
   ]
  },
  {
   "cell_type": "code",
   "execution_count": null,
   "id": "01b33526",
   "metadata": {},
   "outputs": [],
   "source": [
    "\n",
    "try:\n",
    "    symmetrizer = SAWF().from_npz(\"diamond.sawf.npz\")\n",
    "except FileNotFoundError:\n",
    "    symmetrizer = SAWF().from_irrep(bandstructure, irreducible=True)\n",
    "    symmetrizer.to_npz(\"diamond.sawf.npz\")\n"
   ]
  },
  {
   "cell_type": "code",
   "execution_count": null,
   "id": "e745602f",
   "metadata": {},
   "outputs": [],
   "source": [
    "\n",
    "\n",
    "trial_projections = ProjectionsSet()\n",
    "\n",
    "x, y, z = sympy.symbols('x y z')\n",
    "F12 = Fraction(1, 2)\n",
    "F14 = Fraction(1, 4)\n",
    "F18 = Fraction(1, 8)\n",
    "WP = [[0, 0, 0], [x, 0, 0], [F12, F12, F12], [F14, F14, F14], [F18, F18, F18], [0, x, z]]\n",
    "# in principle, those should be all wyckoff position for the spacegroup\n",
    "# but we will only consider a few random positions\n",
    "positions = [\",\".join(str(y) for y in x) for x in WP]\n",
    "print(positions)\n",
    "\n",
    "\n",
    "for p in positions:\n",
    "    for o in ['s','p','d']:\n",
    "        proj = Projection(position_sym=p, orbital=o, spacegroup=spacegroup)\n",
    "        trial_projections.add(proj)\n",
    "\n",
    "print(\"trial_projections: \")\n",
    "print(trial_projections.write_with_multiplicities(orbit=False))\n",
    "print(\"#################\\n\"*3)\n",
    "\n",
    "ebrsearcher = EBRsearcher(\n",
    "    symmetrizer=symmetrizer,\n",
    "    trial_projections_set=trial_projections,\n",
    "    froz_min=-20,\n",
    "    froz_max=25,\n",
    "    outer_min=-20,\n",
    "    outer_max=25,\n",
    "    debug=False\n",
    ")\n",
    "\n",
    "\n",
    "combinations = ebrsearcher.find_combinations(num_wann_max=10)\n",
    "\n",
    "print (f\"the following prijections are compatible with the irreps of the DFT bands in the specified window\")\n",
    "for c in combinations:\n",
    "    print((\"+\" * 80 + \"\\n\") * 2)\n",
    "    print(trial_projections.write_with_multiplicities(c))\n",
    "    newset = trial_projections.get_combination(c)\n",
    "    newset.join_same_wyckoff()\n",
    "    newset.maximize_distance()\n",
    "    print(newset.write_wannier90(mod1=True))\n"
   ]
  },
  {
   "cell_type": "code",
   "execution_count": null,
   "id": "611e99f5",
   "metadata": {},
   "outputs": [],
   "source": []
  }
 ],
 "metadata": {
  "kernelspec": {
   "display_name": "Python 3",
   "language": "python",
   "name": "python3"
  },
  "language_info": {
   "codemirror_mode": {
    "name": "ipython",
    "version": 3
   },
   "file_extension": ".py",
   "mimetype": "text/x-python",
   "name": "python",
   "nbconvert_exporter": "python",
   "pygments_lexer": "ipython3",
   "version": "3.12.11"
  }
 },
 "nbformat": 4,
 "nbformat_minor": 5
}
